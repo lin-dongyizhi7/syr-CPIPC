{
 "cells": [
  {
   "cell_type": "code",
   "execution_count": 19,
   "metadata": {},
   "outputs": [],
   "source": [
    "import random\n",
    "import tensorflow as tf\n",
    "import os\n",
    "import numpy as np\n",
    "def seed_tensorflow(seed=415):\n",
    "    random.seed(seed)\n",
    "    os.environ['PYTHONHASHSEED'] = str(seed)\n",
    "    np.random.seed(seed)\n",
    "    tf.random.set_seed(seed)\n",
    "\n",
    "seed_tensorflow(415)\n",
    "from sklearn import metrics\n",
    "import json\n",
    "import datetime as dt\n",
    "from core.data_processor import DataLoader\n",
    "from core.utils import Timer\n",
    "from tensorflow import keras\n",
    "from tensorflow.keras import layers\n",
    "from keras_tuner import HyperModel\n",
    "from keras_tuner.tuners import RandomSearch"
   ]
  },
  {
   "cell_type": "code",
   "execution_count": 20,
   "metadata": {},
   "outputs": [],
   "source": [
    "class MyHyperModel(HyperModel):\n",
    "\n",
    "    # 这里是个摆设\n",
    "    def __init__(self):\n",
    "        self.name = \"HyperModel\"\n",
    "\n",
    "    def build(self, hp):\n",
    "        configs = json.load(open('config_2.json', 'r'))\n",
    "        model = tf.keras.models.Sequential()\n",
    "        timer = Timer()\n",
    "        timer.start()\n",
    "\n",
    "        for layer in configs['model']['layers']:\n",
    "            neurons = layer['neurons'] if 'neurons' in layer else None\n",
    "            dropout_rate = layer['rate'] if 'rate' in layer else None\n",
    "            activation = layer['activation'] if 'activation' in layer else None\n",
    "            return_seq = layer['return_seq'] if 'return_seq' in layer else None\n",
    "            input_timesteps = layer['input_timesteps'] if 'input_timesteps' in layer else None\n",
    "            input_dim = layer['input_dim'] if 'input_dim' in layer else None\n",
    "\n",
    "            # lstm参数范围\n",
    "            if layer['type'] == 'lstm':\n",
    "                neurons = hp.Int('units',min_value=64,max_value=256,step=2)\n",
    "\n",
    "            if layer['type'] == 'dense':\n",
    "                model.add(tf.keras.layers.Dense(neurons, activation=activation))\n",
    "            if layer['type'] == 'lstm':\n",
    "                model.add(tf.keras.layers.LSTM(neurons, input_shape=(input_timesteps, input_dim), return_sequences=return_seq))\n",
    "            if layer['type'] == 'dropout':\n",
    "                model.add(tf.keras.layers.Dropout(dropout_rate))\n",
    "\n",
    "        model.compile(keras.optimizers.Adam(hp.Choice('learning_rate',values=[1e-2, 1e-3, 1e-4])),loss=configs['model']['loss']) # 学习率选择\n",
    "\n",
    "        print('[Model] Model Compiled')\n",
    "        timer.stop()\n",
    "        return model"
   ]
  },
  {
   "cell_type": "code",
   "execution_count": 21,
   "metadata": {},
   "outputs": [],
   "source": [
    "#读取所需参数\n",
    "configs = json.load(open('config_2.json', 'r'))\n",
    "if not os.path.exists(configs['model']['save_dir']): os.makedirs(configs['model']['save_dir'])\n",
    "    #读取数据\n",
    "data = DataLoader(\n",
    "    os.path.join('data', configs['data']['filename']),\n",
    "    configs['data']['train_test_split'],\n",
    "    configs['data']['columns']\n",
    ")\n",
    "\n",
    "x, y = data.get_train_data(\n",
    "            seq_len=configs['data']['sequence_length'],\n",
    "            normalise=configs['data']['normalise']\n",
    "        )\n",
    "\n",
    "length = x.shape[0]\n",
    "val_split = int(-0.1765 * length) # 看的你的config里面的划分\n",
    "val_x = x[val_split:]\n",
    "val_y = y[val_split:]"
   ]
  },
  {
   "cell_type": "code",
   "execution_count": 23,
   "metadata": {},
   "outputs": [
    {
     "name": "stdout",
     "output_type": "stream",
     "text": [
      "[Model] Model Compiled\n",
      "Time taken: 0:00:00.356481\n"
     ]
    }
   ],
   "source": [
    "hyperModel = MyHyperModel()\n",
    "\n",
    "tuner = RandomSearch(\n",
    "    hyperModel,\n",
    "    objective='val_loss', # 最小化指标，可以多个\n",
    "    max_trials=288,\n",
    "    seed=415,\n",
    "    project_name='myLSTM_try') # 保存在该文件夹下"
   ]
  },
  {
   "cell_type": "code",
   "execution_count": 26,
   "metadata": {},
   "outputs": [
    {
     "name": "stdout",
     "output_type": "stream",
     "text": [
      "Trial 277 Complete [00h 00m 50s]\n",
      "val_loss: 0.007142418064177036\n",
      "\n",
      "Best val_loss So Far: 0.004398881457746029\n",
      "Total elapsed time: 02h 16m 11s\n",
      "INFO:tensorflow:Oracle triggered exit\n"
     ]
    }
   ],
   "source": [
    "tuner.search(x, y,\n",
    "             epochs=5,\n",
    "             validation_data=(val_x, val_y))"
   ]
  }
 ],
 "metadata": {
  "kernelspec": {
   "display_name": "base",
   "language": "python",
   "name": "python3"
  },
  "language_info": {
   "codemirror_mode": {
    "name": "ipython",
    "version": 3
   },
   "file_extension": ".py",
   "mimetype": "text/x-python",
   "name": "python",
   "nbconvert_exporter": "python",
   "pygments_lexer": "ipython3",
   "version": "3.9.13"
  },
  "orig_nbformat": 4
 },
 "nbformat": 4,
 "nbformat_minor": 2
}
