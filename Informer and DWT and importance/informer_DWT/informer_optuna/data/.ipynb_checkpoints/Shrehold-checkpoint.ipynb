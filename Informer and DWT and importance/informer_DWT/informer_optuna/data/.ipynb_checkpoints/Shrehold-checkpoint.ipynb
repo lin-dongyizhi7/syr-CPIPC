{
 "cells": [
  {
   "cell_type": "code",
   "execution_count": 1,
   "id": "3de59311",
   "metadata": {},
   "outputs": [],
   "source": [
    "import numpy as np\n",
    "import pandas as pd\n",
    "df_raw = pd.read_csv('DWT4.csv')\n",
    "n = int(len(df_raw)*0.6)"
   ]
  },
  {
   "cell_type": "code",
   "execution_count": 10,
   "id": "7804b0da",
   "metadata": {},
   "outputs": [],
   "source": [
    "df_all = df_raw['ind']"
   ]
  },
  {
   "cell_type": "code",
   "execution_count": 22,
   "id": "b46c0f00",
   "metadata": {},
   "outputs": [],
   "source": [
    "df_tr = df_all[:n+1]"
   ]
  },
  {
   "cell_type": "code",
   "execution_count": 23,
   "id": "76323f0c",
   "metadata": {},
   "outputs": [
    {
     "data": {
      "text/plain": [
       "count    2430.000000\n",
       "mean        0.092235\n",
       "std         0.049259\n",
       "min         0.003525\n",
       "25%         0.063247\n",
       "50%         0.085184\n",
       "75%         0.123454\n",
       "max         0.263475\n",
       "Name: ind, dtype: float64"
      ]
     },
     "execution_count": 23,
     "metadata": {},
     "output_type": "execute_result"
    }
   ],
   "source": [
    "df_all.describe()"
   ]
  },
  {
   "cell_type": "code",
   "execution_count": 24,
   "id": "5c4a289f",
   "metadata": {},
   "outputs": [],
   "source": [
    "al = df_all.describe()"
   ]
  },
  {
   "cell_type": "code",
   "execution_count": 25,
   "id": "131997a0",
   "metadata": {},
   "outputs": [
    {
     "data": {
      "text/plain": [
       "count    1459.000000\n",
       "mean        0.110488\n",
       "std         0.046132\n",
       "min         0.037579\n",
       "25%         0.073505\n",
       "50%         0.099451\n",
       "75%         0.140027\n",
       "max         0.263475\n",
       "Name: ind, dtype: float64"
      ]
     },
     "execution_count": 25,
     "metadata": {},
     "output_type": "execute_result"
    }
   ],
   "source": [
    "df_tr.describe()"
   ]
  },
  {
   "cell_type": "code",
   "execution_count": 26,
   "id": "64764b90",
   "metadata": {},
   "outputs": [],
   "source": [
    "tr = df_tr.describe()"
   ]
  },
  {
   "cell_type": "code",
   "execution_count": 28,
   "id": "8774e6ab",
   "metadata": {},
   "outputs": [],
   "source": [
    "shrehold = (al[\"mean\"]+al[\"std\"]-tr[\"std\"])/tr[\"mean\"]"
   ]
  },
  {
   "cell_type": "code",
   "execution_count": 29,
   "id": "c4de0ed3",
   "metadata": {},
   "outputs": [
    {
     "name": "stdout",
     "output_type": "stream",
     "text": [
      "0.8630998470198838\n"
     ]
    }
   ],
   "source": [
    "print(shrehold)"
   ]
  },
  {
   "cell_type": "code",
   "execution_count": null,
   "id": "9700da08",
   "metadata": {},
   "outputs": [],
   "source": []
  }
 ],
 "metadata": {
  "kernelspec": {
   "display_name": "Python 3 (ipykernel)",
   "language": "python",
   "name": "python3"
  },
  "language_info": {
   "codemirror_mode": {
    "name": "ipython",
    "version": 3
   },
   "file_extension": ".py",
   "mimetype": "text/x-python",
   "name": "python",
   "nbconvert_exporter": "python",
   "pygments_lexer": "ipython3",
   "version": "3.9.13"
  }
 },
 "nbformat": 4,
 "nbformat_minor": 5
}
